{
 "cells": [
  {
   "cell_type": "markdown",
   "id": "8c392c5a",
   "metadata": {},
   "source": [
    "Importing Libraries (yet again)"
   ]
  },
  {
   "cell_type": "code",
   "execution_count": 12,
   "id": "e5a51b02",
   "metadata": {},
   "outputs": [
    {
     "name": "stdout",
     "output_type": "stream",
     "text": [
      "✅ Libraries imported successfully\n"
     ]
    }
   ],
   "source": [
    "import pandas as pd\n",
    "import numpy as np\n",
    "from sklearn.model_selection import train_test_split, GridSearchCV\n",
    "from sklearn.metrics import root_mean_squared_error, r2_score, mean_absolute_error\n",
    "from sklearn.linear_model import LinearRegression\n",
    "from sklearn.preprocessing import OneHotEncoder\n",
    "from sklearn.compose import ColumnTransformer\n",
    "from sklearn.ensemble import RandomForestRegressor\n",
    "from xgboost import XGBRegressor\n",
    "from sklearn.pipeline import Pipeline\n",
    "import joblib\n",
    "\n",
    "# To ignore all warnings\n",
    "import warnings\n",
    "warnings.filterwarnings('ignore')\n",
    "\n",
    "print(\"✅ Libraries imported successfully\")"
   ]
  },
  {
   "cell_type": "markdown",
   "id": "bfd51841",
   "metadata": {},
   "source": [
    "Importing dataframes"
   ]
  },
  {
   "cell_type": "code",
   "execution_count": 13,
   "id": "9d9055e5",
   "metadata": {},
   "outputs": [
    {
     "name": "stdout",
     "output_type": "stream",
     "text": [
      "Dataframes imported successfully!\n"
     ]
    }
   ],
   "source": [
    "df = joblib.load(\"C:/Users/LENOVO/Desktop/Javin Programming/machine learning files/Cohort/Capstone Project/Models & Dataset/df.pkl\")\n",
    "print(\"Dataframes imported successfully!\")"
   ]
  },
  {
   "cell_type": "code",
   "execution_count": 14,
   "id": "55aea166",
   "metadata": {},
   "outputs": [],
   "source": [
    "df = df.drop(columns=['Country', 'age_group'])"
   ]
  },
  {
   "cell_type": "code",
   "execution_count": 15,
   "id": "fa9e9a09",
   "metadata": {},
   "outputs": [],
   "source": [
    "X = df.drop(columns=['Age'])\n",
    "y = df['Age']"
   ]
  },
  {
   "cell_type": "code",
   "execution_count": 16,
   "id": "43c25395",
   "metadata": {},
   "outputs": [],
   "source": [
    "X_train, X_test, y_train, y_test = train_test_split(X, y, test_size=0.2, random_state=42) # Splitting data into training and testing sets"
   ]
  },
  {
   "cell_type": "code",
   "execution_count": 17,
   "id": "a0908b7c",
   "metadata": {},
   "outputs": [],
   "source": [
    "cat_col = ['Gender', 'family_history',\n",
    "           'work_interfere', 'no_employees', 'remote_work', 'benefits',\n",
    "           'care_options', 'wellness_program', 'seek_help', 'anonymity', 'leave',\n",
    "           'mental_health_consequence', 'coworkers', 'supervisor', 'treatment',\n",
    "           'obs_consequence']"
   ]
  },
  {
   "cell_type": "code",
   "execution_count": null,
   "id": "88aff9dd",
   "metadata": {},
   "outputs": [],
   "source": [
    "# Defining a preprocessor \n",
    "preprocessing = ColumnTransformer(\n",
    "    transformers=[\n",
    "        ('cat', OneHotEncoder(handle_unknown='ignore'), cat_col)\n",
    "    ]\n",
    ")"
   ]
  },
  {
   "cell_type": "code",
   "execution_count": 19,
   "id": "5695de17",
   "metadata": {},
   "outputs": [
    {
     "name": "stdout",
     "output_type": "stream",
     "text": [
      "Applying Linear Regression...\n",
      "\n",
      "========================================\n",
      "MAE:  5.523413472260937\n",
      "RMSE:  7.129080567397488\n",
      "R² Score:  0.0073463043136894335\n",
      "========================================\n",
      "\n",
      "Linear Regression applied successfully!\n"
     ]
    }
   ],
   "source": [
    "# 1. Linear Regression\n",
    "print(\"Applying Linear Regression...\\n\")\n",
    "print(\"=\" * 40)\n",
    "pipe_lr = Pipeline([\n",
    "    (\"preprocess\", preprocessing),\n",
    "    (\"regressor\", LinearRegression())\n",
    "])\n",
    "\n",
    "pipe_lr.fit(X_train, y_train)\n",
    "y_pred_lr = pipe_lr.predict(X_test)\n",
    "\n",
    "print(\"MAE: \", mean_absolute_error(y_test, y_pred_lr))\n",
    "print(\"RMSE: \", root_mean_squared_error(y_test, y_pred_lr))\n",
    "print(\"R² Score: \", r2_score(y_test, y_pred_lr))\n",
    "print(\"=\" * 40)\n",
    "print(\"\\nLinear Regression applied successfully!\")\n"
   ]
  },
  {
   "cell_type": "code",
   "execution_count": 20,
   "id": "3029b4e0",
   "metadata": {},
   "outputs": [
    {
     "name": "stdout",
     "output_type": "stream",
     "text": [
      "Applying Random Forest Regression...\n",
      "========================================\n",
      "MAE:  5.234136686300276\n",
      "RMSE:  6.883705110898743\n",
      "R² Score:  0.07450253595221035\n",
      "Best hyperparameters:  {'regressor__max_depth': 10, 'regressor__min_samples_leaf': 2, 'regressor__min_samples_split': 5, 'regressor__n_estimators': 200}\n",
      "========================================\n",
      "Random Forest Regression applied successfully!\n"
     ]
    }
   ],
   "source": [
    "# 2. Random Forest\n",
    "print(\"Applying Random Forest Regression...\")\n",
    "print(\"=\" * 40)\n",
    "pipe_rf = Pipeline([\n",
    "    (\"preprocess\", preprocessing),\n",
    "    (\"regressor\", RandomForestRegressor(random_state=42))\n",
    "])\n",
    "\n",
    "param_grid_rf = {\n",
    "    'regressor__n_estimators': [100, 200],\n",
    "    'regressor__max_depth': [None, 10, 20],\n",
    "    'regressor__min_samples_split': [2, 5],\n",
    "    'regressor__min_samples_leaf': [1, 2]\n",
    "}\n",
    "\n",
    "grid_rf = GridSearchCV(pipe_rf, param_grid=param_grid_rf, cv=5, n_jobs=-1)\n",
    "grid_rf.fit(X_train, y_train)\n",
    "best_rf = grid_rf.best_estimator_\n",
    "\n",
    "y_pred_rf = best_rf.predict(X_test)\n",
    "print(\"MAE: \", mean_absolute_error(y_test, y_pred_rf))\n",
    "print(\"RMSE: \", root_mean_squared_error(y_test, y_pred_rf))\n",
    "print(\"R² Score: \", r2_score(y_test, y_pred_rf))\n",
    "print(\"Best hyperparameters: \", grid_rf.best_params_)\n",
    "print(\"=\" * 40)\n",
    "print(\"Random Forest Regression applied successfully!\")"
   ]
  },
  {
   "cell_type": "code",
   "execution_count": 21,
   "id": "13da1a4b",
   "metadata": {},
   "outputs": [
    {
     "name": "stdout",
     "output_type": "stream",
     "text": [
      "Applying XGB Regression...\n",
      "========================================\n",
      "MAE:  5.261291980743408\n",
      "RMSE:  6.862639427185059\n",
      "R² Score:  0.08015835285186768\n",
      "Best hyperparameters:  {'regressor__colsample_bytree': 1.0, 'regressor__learning_rate': 0.01, 'regressor__max_depth': 3, 'regressor__n_estimators': 200, 'regressor__subsample': 0.8}\n",
      "========================================\n",
      "XGB Regression applied successfully!\n"
     ]
    }
   ],
   "source": [
    "# 3. XGB Regressor\n",
    "print(\"Applying XGB Regression...\")\n",
    "print(\"=\" * 40)\n",
    "pipe_xgb = Pipeline([\n",
    "    (\"preprocess\", preprocessing),\n",
    "    (\"regressor\", XGBRegressor())\n",
    "])\n",
    "\n",
    "param_grid_xgb = {\n",
    "    'regressor__n_estimators': [100, 200],\n",
    "    'regressor__max_depth': [3, 5, 7],\n",
    "    'regressor__learning_rate': [0.01, 0.1],\n",
    "    'regressor__subsample': [0.8, 1.0],\n",
    "    'regressor__colsample_bytree': [0.8, 1.0]\n",
    "}\n",
    "\n",
    "grid_xgb = GridSearchCV(pipe_xgb, param_grid= param_grid_xgb, cv=5)\n",
    "grid_xgb.fit(X_train, y_train)\n",
    "best_xgb = grid_xgb.best_estimator_\n",
    "\n",
    "y_pred_xgb = best_xgb.predict(X_test)\n",
    "print(\"MAE: \", mean_absolute_error(y_test, y_pred_xgb))\n",
    "print(\"RMSE: \", root_mean_squared_error(y_test, y_pred_xgb))\n",
    "print(\"R² Score: \", r2_score(y_test, y_pred_xgb))\n",
    "print(\"Best hyperparameters: \", grid_xgb.best_params_)\n",
    "print(\"=\" * 40)\n",
    "print(\"XGB Regression applied successfully!\")"
   ]
  },
  {
   "cell_type": "code",
   "execution_count": null,
   "id": "051c4de7",
   "metadata": {},
   "outputs": [
    {
     "name": "stdout",
     "output_type": "stream",
     "text": [
      "📊 Regression Model Comparison:\n",
      "========================================\n"
     ]
    },
    {
     "data": {
      "text/html": [
       "<div>\n",
       "<style scoped>\n",
       "    .dataframe tbody tr th:only-of-type {\n",
       "        vertical-align: middle;\n",
       "    }\n",
       "\n",
       "    .dataframe tbody tr th {\n",
       "        vertical-align: top;\n",
       "    }\n",
       "\n",
       "    .dataframe thead th {\n",
       "        text-align: right;\n",
       "    }\n",
       "</style>\n",
       "<table border=\"1\" class=\"dataframe\">\n",
       "  <thead>\n",
       "    <tr style=\"text-align: right;\">\n",
       "      <th></th>\n",
       "      <th>Model</th>\n",
       "      <th>MAE</th>\n",
       "      <th>RMSE</th>\n",
       "      <th>R² Score</th>\n",
       "    </tr>\n",
       "  </thead>\n",
       "  <tbody>\n",
       "    <tr>\n",
       "      <th>2</th>\n",
       "      <td>XGBoost Regression</td>\n",
       "      <td>5.261292</td>\n",
       "      <td>6.862639</td>\n",
       "      <td>0.080158</td>\n",
       "    </tr>\n",
       "    <tr>\n",
       "      <th>1</th>\n",
       "      <td>Random Forest</td>\n",
       "      <td>5.234137</td>\n",
       "      <td>6.883705</td>\n",
       "      <td>0.074503</td>\n",
       "    </tr>\n",
       "    <tr>\n",
       "      <th>0</th>\n",
       "      <td>Linear Regression</td>\n",
       "      <td>5.523413</td>\n",
       "      <td>7.129081</td>\n",
       "      <td>0.007346</td>\n",
       "    </tr>\n",
       "  </tbody>\n",
       "</table>\n",
       "</div>"
      ],
      "text/plain": [
       "                Model       MAE      RMSE  R² Score\n",
       "2  XGBoost Regression  5.261292  6.862639  0.080158\n",
       "1       Random Forest  5.234137  6.883705  0.074503\n",
       "0   Linear Regression  5.523413  7.129081  0.007346"
      ]
     },
     "metadata": {},
     "output_type": "display_data"
    }
   ],
   "source": [
    "# Making a dataframe to compare the models\n",
    "def evaluate_model(name, y_true, y_pred):\n",
    "    return {\n",
    "        \"Model\": name,\n",
    "        \"MAE\": mean_absolute_error(y_true, y_pred),\n",
    "        \"RMSE\": root_mean_squared_error(y_true, y_pred),\n",
    "        \"R² Score\": r2_score(y_true, y_pred)\n",
    "    }\n",
    "\n",
    "# Collect all results\n",
    "results = [\n",
    "    evaluate_model(\"Linear Regression\", y_test, y_pred_lr),\n",
    "    evaluate_model(\"Random Forest\", y_test, y_pred_rf),\n",
    "    evaluate_model(\"XGBoost Regression\", y_test, y_pred_xgb)\n",
    "]\n",
    "\n",
    "# Display as a DataFrame\n",
    "results_df = pd.DataFrame(results)\n",
    "results_df = results_df.sort_values(by=\"R² Score\", ascending=False)\n",
    "\n",
    "print(\"📊 Regression Model Comparison:\")\n",
    "print(\"=\" * 40)\n",
    "display(results_df)\n"
   ]
  },
  {
   "cell_type": "code",
   "execution_count": null,
   "id": "c9204544",
   "metadata": {},
   "outputs": [],
   "source": [
    "joblib.dump(best_xgb, 'regression_model.pkl')"
   ]
  }
 ],
 "metadata": {
  "kernelspec": {
   "display_name": "base",
   "language": "python",
   "name": "python3"
  },
  "language_info": {
   "codemirror_mode": {
    "name": "ipython",
    "version": 3
   },
   "file_extension": ".py",
   "mimetype": "text/x-python",
   "name": "python",
   "nbconvert_exporter": "python",
   "pygments_lexer": "ipython3",
   "version": "3.12.7"
  }
 },
 "nbformat": 4,
 "nbformat_minor": 5
}
